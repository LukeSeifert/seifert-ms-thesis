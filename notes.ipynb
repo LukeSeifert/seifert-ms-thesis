{
 "cells": [
  {
   "cell_type": "markdown",
   "metadata": {},
   "source": [
    "## Continuous Reprocessing Examples\n",
    "\n",
    "Two isotopes A and B for some element. Can vary decay constants, production rates, and reprocessing constants for each isotope.\n",
    "\n",
    "Bateman equation for each isotope given below as well as solution.\n",
    "\n",
    "$\\frac{dN}{dt} = -\\lambda_d N - \\lambda_r N + prod$\n",
    "\n",
    "$N(t) = N_0 e^{(-\\lambda_{d} + \\lambda_{r}) t} + \\frac{prod}{\\lambda_d + \\lambda_r} \\left( 1 - e^{(-\\lambda_{d} + \\lambda_{r}) t}   \\right)$\n",
    "\n",
    "\n",
    "#### Explanation of physicality\n",
    "\n",
    "In reality, when removing part of an element, we expect both isotopes to be removed proportionally. This means that the ratio of isotopes should remain constant while we perform reprocessing.\n",
    "\n",
    "This is what we see during a simple case (stable isotopes, no production). However, once production of isotopes gets involved, things become more complicated.\n",
    "\n",
    "If production is a constant value and is the same for both isotopes, it will drive the ratio to be 1 (A/B = 1).\n",
    "\n",
    "\n",
    "### Stable isotopes, no production, same reprocessing constants\n",
    "\n",
    "$\\frac{A}{B}$ ratio constant, physical result."
   ]
  },
  {
   "cell_type": "code",
   "execution_count": 13,
   "metadata": {},
   "outputs": [
    {
     "name": "stdout",
     "output_type": "stream",
     "text": [
      "╒════════╤══════════╤══════════╤═══════╤═══════╕\n",
      "│   Time │   N(t) A │   N(t) B │   Net │   A/B │\n",
      "╞════════╪══════════╪══════════╪═══════╪═══════╡\n",
      "│      0 │    90    │    10    │ 100   │     9 │\n",
      "├────────┼──────────┼──────────┼───────┼───────┤\n",
      "│      1 │    81    │     9    │  90   │     9 │\n",
      "├────────┼──────────┼──────────┼───────┼───────┤\n",
      "│      2 │    72.9  │     8.1  │  81   │     9 │\n",
      "├────────┼──────────┼──────────┼───────┼───────┤\n",
      "│      3 │    65.61 │     7.29 │  72.9 │     9 │\n",
      "╘════════╧══════════╧══════════╧═══════╧═══════╛\n"
     ]
    }
   ],
   "source": [
    "import numpy as np\n",
    "from tabulate import tabulate\n",
    "initial = 100\n",
    "init_a = 0.9 * initial\n",
    "init_b = 0.1 * initial\n",
    "X = 0.1\n",
    "reproc_a = np.log(1 / (1 - X))\n",
    "reproc_b = np.log(1 / (1 - X))\n",
    "decay_a = 0\n",
    "decay_b = 0\n",
    "prod_a = 0\n",
    "prod_b = 0\n",
    "times = np.arange(0, 4)\n",
    "\n",
    "\n",
    "tabl = []\n",
    "tabl.append(['Time', 'N(t) A', 'N(t) B', 'Net', 'A/B'])\n",
    "for t in times:\n",
    "    n_a = init_a * np.exp(-t * (reproc_a + decay_a)) + prod_a/(reproc_a + decay_a) * (1 - np.exp(-t * (reproc_a + decay_a)))\n",
    "    n_b = init_b * np.exp(-t * (reproc_b + decay_b)) + prod_b/(reproc_b + decay_b) * (1 - np.exp(-t * (reproc_b + decay_b)))\n",
    "    net = n_a + n_b\n",
    "    tabl.append([t, n_a, n_b, net, n_a/n_b])\n",
    "    \n",
    "\n",
    "print(tabulate(tabl, headers='firstrow', tablefmt='fancy_grid'))"
   ]
  },
  {
   "cell_type": "markdown",
   "metadata": {},
   "source": [
    "### Stable isotopes, no production, different reprocessing constants\n",
    "\n",
    "$\\frac{A}{B}$ ratio changes due to this, non-physical result."
   ]
  },
  {
   "cell_type": "code",
   "execution_count": 14,
   "metadata": {},
   "outputs": [
    {
     "name": "stdout",
     "output_type": "stream",
     "text": [
      "╒════════╤══════════╤══════════╤════════╤═════════╕\n",
      "│   Time │   N(t) A │   N(t) B │    Net │     A/B │\n",
      "╞════════╪══════════╪══════════╪════════╪═════════╡\n",
      "│      0 │    90    │    10    │ 100    │  9      │\n",
      "├────────┼──────────┼──────────┼────────┼─────────┤\n",
      "│      1 │    81    │     8    │  89    │ 10.125  │\n",
      "├────────┼──────────┼──────────┼────────┼─────────┤\n",
      "│      2 │    72.9  │     6.4  │  79.3  │ 11.3906 │\n",
      "├────────┼──────────┼──────────┼────────┼─────────┤\n",
      "│      3 │    65.61 │     5.12 │  70.73 │ 12.8145 │\n",
      "╘════════╧══════════╧══════════╧════════╧═════════╛\n"
     ]
    }
   ],
   "source": [
    "import numpy as np\n",
    "from tabulate import tabulate\n",
    "initial = 100\n",
    "init_a = 0.9 * initial\n",
    "init_b = 0.1 * initial\n",
    "X = 0.1\n",
    "reproc_a = np.log(1 / (1 - X))\n",
    "reproc_b = np.log(1 / (1 - X*2))\n",
    "decay_a = 0\n",
    "decay_b = 0\n",
    "prod_a = 0\n",
    "prod_b = 0\n",
    "times = np.arange(0, 4)\n",
    "\n",
    "\n",
    "tabl = []\n",
    "tabl.append(['Time', 'N(t) A', 'N(t) B', 'Net', 'A/B'])\n",
    "for t in times:\n",
    "    n_a = init_a * np.exp(-t * (reproc_a + decay_a)) + prod_a/(reproc_a + decay_a) * (1 - np.exp(-t * (reproc_a + decay_a)))\n",
    "    n_b = init_b * np.exp(-t * (reproc_b + decay_b)) + prod_b/(reproc_b + decay_b) * (1 - np.exp(-t * (reproc_b + decay_b)))\n",
    "    net = n_a + n_b\n",
    "    tabl.append([t, n_a, n_b, net, n_a/n_b])\n",
    "    \n",
    "\n",
    "print(tabulate(tabl, headers='firstrow', tablefmt='fancy_grid'))"
   ]
  },
  {
   "cell_type": "markdown",
   "metadata": {},
   "source": [
    "### Equally unstable isotopes, no production, same reprocessing constants\n",
    "\n",
    "Both decay at same rate, $\\frac{A}{B}$ ratio unchanged."
   ]
  },
  {
   "cell_type": "code",
   "execution_count": 19,
   "metadata": {},
   "outputs": [
    {
     "name": "stdout",
     "output_type": "stream",
     "text": [
      "╒════════╤══════════╤═══════════╤═══════════╤═══════╕\n",
      "│   Time │   N(t) A │    N(t) B │       Net │   A/B │\n",
      "╞════════╪══════════╪═══════════╪═══════════╪═══════╡\n",
      "│      0 │ 90       │ 10        │ 100       │     9 │\n",
      "├────────┼──────────┼───────────┼───────────┼───────┤\n",
      "│      1 │ 29.7982  │  3.31091  │  33.1091  │     9 │\n",
      "├────────┼──────────┼───────────┼───────────┼───────┤\n",
      "│      2 │  9.86594 │  1.09622  │  10.9622  │     9 │\n",
      "├────────┼──────────┼───────────┼───────────┼───────┤\n",
      "│      3 │  3.26653 │  0.362948 │   3.62948 │     9 │\n",
      "╘════════╧══════════╧═══════════╧═══════════╧═══════╛\n"
     ]
    }
   ],
   "source": [
    "import numpy as np\n",
    "from tabulate import tabulate\n",
    "initial = 100\n",
    "init_a = 0.9 * initial\n",
    "init_b = 0.1 * initial\n",
    "X = 0.1\n",
    "reproc_a = np.log(1 / (1 - X))\n",
    "reproc_b = np.log(1 / (1 - X))\n",
    "decay_a = 1\n",
    "decay_b = 1\n",
    "prod_a = 0\n",
    "prod_b = 0\n",
    "times = np.arange(0, 4)\n",
    "\n",
    "\n",
    "tabl = []\n",
    "tabl.append(['Time', 'N(t) A', 'N(t) B', 'Net', 'A/B'])\n",
    "for t in times:\n",
    "    n_a = init_a * np.exp(-t * (reproc_a + decay_a)) + prod_a/(reproc_a + decay_a) * (1 - np.exp(-t * (reproc_a + decay_a)))\n",
    "    n_b = init_b * np.exp(-t * (reproc_b + decay_b)) + prod_b/(reproc_b + decay_b) * (1 - np.exp(-t * (reproc_b + decay_b)))\n",
    "    net = n_a + n_b\n",
    "    tabl.append([t, n_a, n_b, net, n_a/n_b])\n",
    "    \n",
    "\n",
    "print(tabulate(tabl, headers='firstrow', tablefmt='fancy_grid'))"
   ]
  },
  {
   "cell_type": "markdown",
   "metadata": {},
   "source": [
    "### Unstable isotopes, no production, same reprocessing constants\n",
    "\n",
    "Decay at different rate, $\\frac{A}{B}$ ratio changes. Physical since ratio changes same amount as without reprocessing."
   ]
  },
  {
   "cell_type": "code",
   "execution_count": 24,
   "metadata": {},
   "outputs": [
    {
     "name": "stdout",
     "output_type": "stream",
     "text": [
      "╒════════╤════════════════════╤════════════════════╤════════════════════╤════════════════════╕\n",
      "│ Time   │ N(t) A             │ N(t) B             │ Net                │ A/B                │\n",
      "╞════════╪════════════════════╪════════════════════╪════════════════════╪════════════════════╡\n",
      "│ 0      │ 90.0               │ 10.0               │ 100.0              │ 9.0                │\n",
      "├────────┼────────────────────┼────────────────────┼────────────────────┼────────────────────┤\n",
      "│ 1      │ 29.798234734886826 │ 5.4587759374137    │ 35.257010672300524 │ 5.4587759374137015 │\n",
      "├────────┼────────────────────┼────────────────────┼────────────────────┼────────────────────┤\n",
      "│ 2      │ 9.865942147949065  │ 2.9798234734886826 │ 12.845765621437748 │ 3.310914970542981  │\n",
      "├────────┼────────────────────┼────────────────────┼────────────────────┼────────────────────┤\n",
      "│ 3      │ 3.266529555615553  │ 1.6266188674820534 │ 4.893148423097607  │ 2.0081714413358682 │\n",
      "├────────┼────────────────────┼────────────────────┼────────────────────┼────────────────────┤\n",
      "│ -      │ -                  │ -                  │ -                  │ -                  │\n",
      "├────────┼────────────────────┼────────────────────┼────────────────────┼────────────────────┤\n",
      "│ 0      │ 90.0               │ 10.0               │ 100.0              │ 9.0                │\n",
      "├────────┼────────────────────┼────────────────────┼────────────────────┼────────────────────┤\n",
      "│ 1      │ 33.10914970542981  │ 6.065306597126334  │ 39.17445630255614  │ 5.458775937413701  │\n",
      "├────────┼────────────────────┼────────────────────┼────────────────────┼────────────────────┤\n",
      "│ 2      │ 12.180175491295143 │ 3.6787944117144233 │ 15.858969903009566 │ 3.310914970542981  │\n",
      "├────────┼────────────────────┼────────────────────┼────────────────────┼────────────────────┤\n",
      "│ 3      │ 4.480836153107755  │ 2.231301601484298  │ 6.712137754592053  │ 2.0081714413358687 │\n",
      "╘════════╧════════════════════╧════════════════════╧════════════════════╧════════════════════╛\n"
     ]
    }
   ],
   "source": [
    "import numpy as np\n",
    "from tabulate import tabulate\n",
    "initial = 100\n",
    "init_a = 0.9 * initial\n",
    "init_b = 0.1 * initial\n",
    "X = 0.1\n",
    "reproc_a = np.log(1 / (1 - X))\n",
    "reproc_b = np.log(1 / (1 - X))\n",
    "decay_a = 1\n",
    "decay_b = 0.5\n",
    "prod_a = 0\n",
    "prod_b = 0\n",
    "times = np.arange(0, 4)\n",
    "\n",
    "\n",
    "tabl = []\n",
    "tabl.append(['Time', 'N(t) A', 'N(t) B', 'Net', 'A/B'])\n",
    "for t in times:\n",
    "    n_a = init_a * np.exp(-t * (reproc_a + decay_a)) + prod_a/(reproc_a + decay_a) * (1 - np.exp(-t * (reproc_a + decay_a)))\n",
    "    n_b = init_b * np.exp(-t * (reproc_b + decay_b)) + prod_b/(reproc_b + decay_b) * (1 - np.exp(-t * (reproc_b + decay_b)))\n",
    "    net = n_a + n_b\n",
    "    tabl.append([t, n_a, n_b, net, n_a/n_b])\n",
    "\n",
    "    \n",
    "tabl.append(['-', '-', '-', '-', '-'])\n",
    "reproc_a = 0\n",
    "reproc_b = 0\n",
    "for t in times:\n",
    "    n_a = init_a * np.exp(-t * (reproc_a + decay_a)) + prod_a/(reproc_a + decay_a) * (1 - np.exp(-t * (reproc_a + decay_a)))\n",
    "    n_b = init_b * np.exp(-t * (reproc_b + decay_b)) + prod_b/(reproc_b + decay_b) * (1 - np.exp(-t * (reproc_b + decay_b)))\n",
    "    net = n_a + n_b\n",
    "    tabl.append([t, n_a, n_b, net, n_a/n_b])\n",
    "    \n",
    "\n",
    "print(tabulate(tabl, headers='firstrow', tablefmt='fancy_grid'))"
   ]
  },
  {
   "cell_type": "markdown",
   "metadata": {},
   "source": [
    "### Unstable isotopes, same production, same reprocessing constants\n",
    "\n",
    "First full, second is without reprocessing, third is without production\n",
    "\n",
    "Produce at same rate, $\\frac{A}{B}$ ratio changes. Ratio changes with removal of reprocessing. Check against batchwise instead."
   ]
  },
  {
   "cell_type": "code",
   "execution_count": 45,
   "metadata": {},
   "outputs": [
    {
     "name": "stdout",
     "output_type": "stream",
     "text": [
      "╒════════╤════════════════════╤════════════════════╤═══════════════════╤═══════════════════╕\n",
      "│ Time   │ N(t) A             │ N(t) B             │ Net               │ A/B               │\n",
      "╞════════╪════════════════════╪════════════════════╪═══════════════════╪═══════════════════╡\n",
      "│ 0      │ 90.0               │ 10.0               │ 100.0             │ 9.0               │\n",
      "├────────┼────────────────────┼────────────────────┼───────────────────┼───────────────────┤\n",
      "│ 1      │ 77.81184102871349  │ 10.85554286300409  │ 88.66738389171758 │ 7.167936418352492 │\n",
      "├────────┼────────────────────┼────────────────────┼───────────────────┼───────────────────┤\n",
      "│ 2      │ 67.88636896394183  │ 11.552257338665836 │ 79.43862630260767 │ 5.876459203927498 │\n",
      "├────────┼────────────────────┼────────────────────┼───────────────────┼───────────────────┤\n",
      "│ 3      │ 59.803524299653425 │ 12.119629333205278 │ 71.9231536328587  │ 4.934435093308021 │\n",
      "├────────┼────────────────────┼────────────────────┼───────────────────┼───────────────────┤\n",
      "│ -      │ -                  │ -                  │ -                 │ -                 │\n",
      "├────────┼────────────────────┼────────────────────┼───────────────────┼───────────────────┤\n",
      "│ 0      │ 90.0               │ 10.0               │ 100.0             │ 9.0               │\n",
      "├────────┼────────────────────┼────────────────────┼───────────────────┼───────────────────┤\n",
      "│ 1      │ 86.19349672143838  │ 11.903251639280809 │ 98.09674836071919 │ 7.241172356383635 │\n",
      "├────────┼────────────────────┼────────────────────┼───────────────────┼───────────────────┤\n",
      "│ 2      │ 82.74923012311928  │ 13.625384938440364 │ 96.37461506155964 │ 6.073166409388152 │\n",
      "├────────┼────────────────────┼────────────────────┼───────────────────┼───────────────────┤\n",
      "│ 3      │ 79.63272882726872  │ 15.183635586365643 │ 94.81636441363436 │ 5.244641731179062 │\n",
      "├────────┼────────────────────┼────────────────────┼───────────────────┼───────────────────┤\n",
      "│ -      │ -                  │ -                  │ -                 │ -                 │\n",
      "├────────┼────────────────────┼────────────────────┼───────────────────┼───────────────────┤\n",
      "│ 0      │ 90.0               │ 10.0               │ 100.0             │ 9.0               │\n",
      "├────────┼────────────────────┼────────────────────┼───────────────────┼───────────────────┤\n",
      "│ 1      │ 73.29183086091273  │ 8.143536762323635  │ 81.43536762323636 │ 9.000000000000002 │\n",
      "├────────┼────────────────────┼────────────────────┼───────────────────┼───────────────────┤\n",
      "│ 2      │ 59.68547189938487  │ 6.631719099931653  │ 66.31719099931652 │ 9.0               │\n",
      "├────────┼────────────────────┼────────────────────┼───────────────────┼───────────────────┤\n",
      "│ 3      │ 48.6050834589275   │ 5.400564828769722  │ 54.00564828769723 │ 9.0               │\n",
      "╘════════╧════════════════════╧════════════════════╧═══════════════════╧═══════════════════╛\n"
     ]
    }
   ],
   "source": [
    "import numpy as np\n",
    "from tabulate import tabulate\n",
    "initial = 100\n",
    "init_a = 0.9 * initial\n",
    "init_b = 0.1 * initial\n",
    "X = 0.1\n",
    "reproc_a = np.log(1 / (1 - X))\n",
    "reproc_b = np.log(1 / (1 - X))\n",
    "decay_a = 0.1\n",
    "decay_b = 0.1\n",
    "prod_a = 5\n",
    "prod_b = 3\n",
    "times = np.arange(0, 4)\n",
    "\n",
    "\n",
    "tabl = []\n",
    "tabl.append(['Time', 'N(t) A', 'N(t) B', 'Net', 'A/B'])\n",
    "for t in times:\n",
    "    n_a = init_a * np.exp(-t * (reproc_a + decay_a)) + prod_a/(reproc_a + decay_a) * (1 - np.exp(-t * (reproc_a + decay_a)))\n",
    "    n_b = init_b * np.exp(-t * (reproc_b + decay_b)) + prod_b/(reproc_b + decay_b) * (1 - np.exp(-t * (reproc_b + decay_b)))\n",
    "    net = n_a + n_b\n",
    "    tabl.append([t, n_a, n_b, net, n_a/n_b])\n",
    "    \n",
    "tabl.append(['-', '-', '-', '-', '-'])\n",
    "reproc_a = 0\n",
    "reproc_b = 0\n",
    "for t in times:\n",
    "    n_a = init_a * np.exp(-t * (reproc_a + decay_a)) + prod_a/(reproc_a + decay_a) * (1 - np.exp(-t * (reproc_a + decay_a)))\n",
    "    n_b = init_b * np.exp(-t * (reproc_b + decay_b)) + prod_b/(reproc_b + decay_b) * (1 - np.exp(-t * (reproc_b + decay_b)))\n",
    "    net = n_a + n_b\n",
    "    tabl.append([t, n_a, n_b, net, n_a/n_b])\n",
    "\n",
    "tabl.append(['-', '-', '-', '-', '-'])\n",
    "reproc_a = np.log(1 / (1 - X))\n",
    "reproc_b = np.log(1 / (1 - X))\n",
    "prod_a = 0\n",
    "prod_b = 0\n",
    "for t in times:\n",
    "    n_a = init_a * np.exp(-t * (reproc_a + decay_a)) + prod_a/(reproc_a + decay_a) * (1 - np.exp(-t * (reproc_a + decay_a)))\n",
    "    n_b = init_b * np.exp(-t * (reproc_b + decay_b)) + prod_b/(reproc_b + decay_b) * (1 - np.exp(-t * (reproc_b + decay_b)))\n",
    "    net = n_a + n_b\n",
    "    tabl.append([t, n_a, n_b, net, n_a/n_b])\n",
    "    \n",
    "\n",
    "print(tabulate(tabl, headers='firstrow', tablefmt='fancy_grid'))"
   ]
  },
  {
   "cell_type": "markdown",
   "metadata": {},
   "source": [
    "### Unstable isotopes, same production, same reprocessing constants (Batchwise)\n",
    "\n",
    "Produce at same rate, $\\frac{A}{B}$ ratio changes. Ratio matches continuous without reprocessing, values are closer to with reprocessing.\n",
    "\n",
    "Continuous is likely valid even with production since it matches batchwise fairly closely, but is likely more accurate."
   ]
  },
  {
   "cell_type": "code",
   "execution_count": 43,
   "metadata": {},
   "outputs": [
    {
     "name": "stdout",
     "output_type": "stream",
     "text": [
      "╒════════╤══════════╤══════════╤══════════╤═════════╕\n",
      "│   Time │   N(t) A │   N(t) B │      Net │     A/B │\n",
      "╞════════╪══════════╪══════════╪══════════╪═════════╡\n",
      "│      0 │  90      │  10      │ 100      │ 9       │\n",
      "├────────┼──────────┼──────────┼──────────┼─────────┤\n",
      "│      1 │  77.5741 │  10.7129 │  88.2871 │ 7.24117 │\n",
      "├────────┼──────────┼──────────┼──────────┼─────────┤\n",
      "│      2 │  74.4743 │  12.2628 │  86.7372 │ 6.07317 │\n",
      "├────────┼──────────┼──────────┼──────────┼─────────┤\n",
      "│      3 │  71.6695 │  13.6653 │  85.3347 │ 5.24464 │\n",
      "╘════════╧══════════╧══════════╧══════════╧═════════╛\n"
     ]
    }
   ],
   "source": [
    "import numpy as np\n",
    "from tabulate import tabulate\n",
    "initial = 100\n",
    "init_a = 0.9 * initial\n",
    "init_b = 0.1 * initial\n",
    "X = 0.1\n",
    "reproc_a = 0\n",
    "reproc_b = 0\n",
    "decay_a = 0.1\n",
    "decay_b = 0.1\n",
    "prod_a = 5\n",
    "prod_b = 3\n",
    "times = np.arange(0, 4)\n",
    "\n",
    "\n",
    "tabl = []\n",
    "tabl.append(['Time', 'N(t) A', 'N(t) B', 'Net', 'A/B'])\n",
    "\n",
    "for t in times:\n",
    "    n_a = init_a * np.exp(-t * (reproc_a + decay_a)) + prod_a/(reproc_a + decay_a) * (1 - np.exp(-t * (reproc_a + decay_a)))\n",
    "    n_b = init_b * np.exp(-t * (reproc_b + decay_b)) + prod_b/(reproc_b + decay_b) * (1 - np.exp(-t * (reproc_b + decay_b)))\n",
    "    if t != 0:\n",
    "        n_a = (1-X) * n_a\n",
    "        n_b = (1-X) * n_b\n",
    "    net = n_a + n_b\n",
    "    tabl.append([t, n_a, n_b, net, n_a/n_b])\n",
    "    \n",
    "\n",
    "print(tabulate(tabl, headers='firstrow', tablefmt='fancy_grid'))"
   ]
  }
 ],
 "metadata": {
  "kernelspec": {
   "display_name": "Python 3",
   "language": "python",
   "name": "python3"
  },
  "language_info": {
   "codemirror_mode": {
    "name": "ipython",
    "version": 3
   },
   "file_extension": ".py",
   "mimetype": "text/x-python",
   "name": "python",
   "nbconvert_exporter": "python",
   "pygments_lexer": "ipython3",
   "version": "3.7.6"
  }
 },
 "nbformat": 4,
 "nbformat_minor": 4
}
